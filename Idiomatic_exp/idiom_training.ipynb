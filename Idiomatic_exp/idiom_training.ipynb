{
  "cells": [
    {
      "cell_type": "code",
      "execution_count": 1,
      "metadata": {
        "colab": {
          "base_uri": "https://localhost:8080/"
        },
        "id": "ylZZyd6y0w-5",
        "outputId": "96656ff6-9c76-4b68-afdb-95dff36bc829"
      },
      "outputs": [
        {
          "name": "stdout",
          "output_type": "stream",
          "text": [
            "Mounted at /content/drive\n"
          ]
        }
      ],
      "source": [
        "from google.colab import drive\n",
        "\n",
        "# Mount Google Drive\n",
        "drive.mount('/content/drive')"
      ]
    },
    {
      "cell_type": "code",
      "execution_count": null,
      "metadata": {
        "id": "j8AVOauk08HE"
      },
      "outputs": [],
      "source": [
        "!pip install -q condacolab\n",
        "import condacolab\n",
        "condacolab.install()"
      ]
    },
    {
      "cell_type": "code",
      "execution_count": null,
      "metadata": {
        "id": "kNePd7iH1G6O"
      },
      "outputs": [],
      "source": [
        "# Define the path for the new environment\n",
        "env_path = '/content/my_conda_envs/sick'\n",
        "\n",
        "# Create the Conda environment in the specified folder\n",
        "!conda create --prefix \"$env_path\" python=3.8 -y\n"
      ]
    },
    {
      "cell_type": "code",
      "execution_count": null,
      "metadata": {
        "id": "YDtdMhNX1Jto"
      },
      "outputs": [],
      "source": [
        "!source activate \"$env_path\""
      ]
    },
    {
      "cell_type": "code",
      "execution_count": null,
      "metadata": {
        "id": "HKF4liSm1LCx"
      },
      "outputs": [],
      "source": [
        "python3_path = '/content/my_conda_envs/sick/bin/python3'"
      ]
    },
    {
      "cell_type": "code",
      "execution_count": null,
      "metadata": {
        "id": "9asfKtkg1MVl"
      },
      "outputs": [],
      "source": [
        "!\"$python3_path\" -m pip install torch torchvision torchaudio"
      ]
    },
    {
      "cell_type": "code",
      "execution_count": null,
      "metadata": {
        "id": "HfLf-R-d1dku"
      },
      "outputs": [],
      "source": [
        "!\"$python3_path\" -m pip install -r /content/SICK_Summarization/requirements.txt"
      ]
    },
    {
      "cell_type": "code",
      "execution_count": null,
      "metadata": {
        "id": "cTVcVAKq1fS6"
      },
      "outputs": [],
      "source": [
        "!\"$python3_path\" -m spacy download en_core_web_sm"
      ]
    },
    {
      "cell_type": "code",
      "execution_count": null,
      "metadata": {
        "id": "UPAYRU781gyd"
      },
      "outputs": [],
      "source": [
        "!\"$python3_path\" -m pip install -U spacy"
      ]
    },
    {
      "cell_type": "code",
      "execution_count": null,
      "metadata": {
        "id": "IGlHHnEM1jnO"
      },
      "outputs": [],
      "source": [
        "!\"$python3_path\" -m pip install wandb bs4 sentence_transformers"
      ]
    },
    {
      "cell_type": "code",
      "execution_count": null,
      "metadata": {
        "id": "129k0kXr12dM"
      },
      "outputs": [],
      "source": [
        "import shutil\n",
        "\n",
        "# Define a list of tuples with source and destination folders\n",
        "folders = [(\"/content/drive/MyDrive/SICK_Summarization/data/COMET_data\", \"/content/SICK_Summarization/data/COMET_data\"),\n",
        "           (\"/content/drive/MyDrive/SICK_Summarization/data/DialogSum_Data\", \"/content/SICK_Summarization/data/DialogSum_Data\")]\n",
        "\n",
        "# Iterate over each pair and use shutil.copytree to copy the contents\n",
        "for source_folder, dest_folder in folders:\n",
        "    shutil.copytree(source_folder, dest_folder)\n"
      ]
    },
    {
      "cell_type": "code",
      "execution_count": null,
      "metadata": {
        "id": "tyKj4F0w2GCk"
      },
      "outputs": [],
      "source": [
        "import shutil\n",
        "\n",
        "# Define a list of tuples with source and destination folders\n",
        "folders = [(\"/content/drive/MyDrive/SICK_Summarization/data/COMET_data\", \"/content/SICK_Summarization/data/COMET_data\"),\n",
        "           (\"/content/drive/MyDrive/SICK_Summarization/data/DialogSum_Data\", \"/content/SICK_Summarization/data/DialogSum_Data\")]\n",
        "\n",
        "# Iterate over each pair and use shutil.copytree to copy the contents\n",
        "for source_folder, dest_folder in folders:\n",
        "    shutil.copytree(source_folder, dest_folder)\n"
      ]
    },
    {
      "cell_type": "markdown",
      "metadata": {
        "id": "spdZWrLm2Ix0"
      },
      "source": [
        "## Training Sick with idiom"
      ]
    },
    {
      "cell_type": "code",
      "execution_count": null,
      "metadata": {
        "id": "JX1KZ0XD2yV_"
      },
      "outputs": [],
      "source": [
        "import warnings\n",
        "warnings.filterwarnings(\"ignore\")"
      ]
    },
    {
      "cell_type": "code",
      "execution_count": null,
      "metadata": {
        "id": "J8UxFOrO2ZB-"
      },
      "outputs": [],
      "source": [
        "!chmod +x /content/drive/MyDrive/SICK_Summarization/sick_summarization_env/bin/python3"
      ]
    },
    {
      "cell_type": "code",
      "execution_count": null,
      "metadata": {
        "id": "kpiQGn432IB4"
      },
      "outputs": [],
      "source": [
        "%cd \"/content/SICK_Summarization/src/\"\n",
        "!\"$python3_path\" train_summarization_context.py --finetune_weight_path=\"./new_weights_sick\" --best_finetune_weight_path=\"./new_weights_sick_best\" --dataset_name=\"samsum\" --use_paracomet=True --model_name=\"facebook/bart-large-xsum\" --relation \"xIntent\" --epoch=1 --use_sentence_transformer True\n"
      ]
    },
    {
      "cell_type": "code",
      "execution_count": null,
      "metadata": {
        "id": "cpuoViWG2Nsr"
      },
      "outputs": [],
      "source": [
        "# Define the source and destination paths\n",
        "source_folder = '/content/SICK_Summarization/src/new_weights_sick_best'\n",
        "destination_folder = '/content/drive/MyDrive/SICK_Summarization/src'\n",
        "\n",
        "\n",
        "# Move the source folder to the destination folder\n",
        "!mv \"$source_folder\" \"$destination_folder\"\n",
        "\n"
      ]
    },
    {
      "cell_type": "code",
      "execution_count": null,
      "metadata": {
        "id": "uK9KC6uF2O_M"
      },
      "outputs": [],
      "source": [
        "%cd \"/content/SICK_Summarization/src/\"\n",
        "!\"$python3_path\" inference.py --dataset_name \"samsum\" --model_checkpoint=\"/content/drive/MyDrive/SICK_Summarization/src/new_weights_sick_best\" --test_output_file_name=\"./tmp_result.txt\" --use_paracomet True --num_beams 20 --train_configuration=\"full\" --use_sentence_transformer True"
      ]
    }
  ],
  "metadata": {
    "colab": {
      "provenance": []
    },
    "kernelspec": {
      "display_name": "Python 3",
      "name": "python3"
    },
    "language_info": {
      "name": "python"
    }
  },
  "nbformat": 4,
  "nbformat_minor": 0
}
